{
 "cells": [
  {
   "cell_type": "code",
   "execution_count": 1,
   "id": "alike-tablet",
   "metadata": {},
   "outputs": [],
   "source": [
    "from rijubot.rijubot import RijuBot"
   ]
  },
  {
   "cell_type": "code",
   "execution_count": 2,
   "id": "excited-refund",
   "metadata": {},
   "outputs": [
    {
     "name": "stdout",
     "output_type": "stream",
     "text": [
      "Motor initialized.\n",
      "Motor enabled\n"
     ]
    }
   ],
   "source": [
    "bot = RijuBot()"
   ]
  },
  {
   "cell_type": "code",
   "execution_count": 13,
   "id": "listed-miami",
   "metadata": {},
   "outputs": [],
   "source": [
    "bot.forward(50)"
   ]
  },
  {
   "cell_type": "code",
   "execution_count": 5,
   "id": "pleased-mistress",
   "metadata": {},
   "outputs": [],
   "source": [
    "bot.stop()"
   ]
  },
  {
   "cell_type": "code",
   "execution_count": 3,
   "id": "necessary-desire",
   "metadata": {},
   "outputs": [],
   "source": [
    "bot.left()"
   ]
  },
  {
   "cell_type": "code",
   "execution_count": 4,
   "id": "sought-member",
   "metadata": {},
   "outputs": [],
   "source": [
    "bot.right()"
   ]
  },
  {
   "cell_type": "code",
   "execution_count": null,
   "id": "sharp-practice",
   "metadata": {},
   "outputs": [],
   "source": []
  }
 ],
 "metadata": {
  "kernelspec": {
   "display_name": "Python 3",
   "language": "python",
   "name": "python3"
  },
  "language_info": {
   "codemirror_mode": {
    "name": "ipython",
    "version": 3
   },
   "file_extension": ".py",
   "mimetype": "text/x-python",
   "name": "python",
   "nbconvert_exporter": "python",
   "pygments_lexer": "ipython3",
   "version": "3.6.9"
  }
 },
 "nbformat": 4,
 "nbformat_minor": 5
}
